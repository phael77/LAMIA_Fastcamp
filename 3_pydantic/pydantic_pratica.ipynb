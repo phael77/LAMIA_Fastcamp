{
 "cells": [
  {
   "cell_type": "markdown",
   "metadata": {},
   "source": [
    "**PRÁTICA PYDANTIC**"
   ]
  },
  {
   "cell_type": "code",
   "execution_count": null,
   "metadata": {},
   "outputs": [],
   "source": [
    "from datetime import datetime \n",
    "from typing import Optional\n",
    "from uuid import UUID, uuid4\n",
    "\n",
    "from fastapi import FastAPI, HTTPException\n",
    "from fastapi.responses import JSONResponse\n",
    "from fastapi.testclient import TestClient\n",
    "from pydantic import BaseModel, Field, EmailStr"
   ]
  },
  {
   "cell_type": "code",
   "execution_count": null,
   "metadata": {},
   "outputs": [],
   "source": [
    "app = FastAPI() #Instancia do FastAPI"
   ]
  },
  {
   "cell_type": "code",
   "execution_count": 29,
   "metadata": {},
   "outputs": [],
   "source": [
    "# Banco de dados em memória\n",
    "USERS = []\n",
    "TASKS = []"
   ]
  },
  {
   "cell_type": "code",
   "execution_count": null,
   "metadata": {},
   "outputs": [],
   "source": [
    "#Nossa classe de usuário\n",
    "class User(BaseModel):\n",
    "    id: UUID = Field(default_factory=uuid4, description=\"Unique identifier\") #Campo de id usando como identificador o uuid\n",
    "    name: str = Field(..., description=\"User's name\") #Campo do nome usando como identificador o tipo str(String)\n",
    "    email: EmailStr = Field(..., description=\"User's email\") ##Campo do email usando como identificador o tipo EmailStr"
   ]
  },
  {
   "cell_type": "code",
   "execution_count": null,
   "metadata": {},
   "outputs": [],
   "source": [
    "#Nossa classe de tarefas\n",
    "class Task(BaseModel):\n",
    "    id: UUID = Field(default_factory=uuid4, description=\"Task ID\")\n",
    "    title: str = Field(..., description=\"Task title\")\n",
    "    description: Optional[str] = Field(None, description=\"Task description\")\n",
    "    created_at: datetime = Field(default_factory=datetime.now, description=\"Creation timestamp\")\n",
    "    completed: bool = Field(default=False, description=\"Task completion status\")\n",
    "    user_id: Optional[UUID] = Field(None, description=\"User assigned to task\")"
   ]
  },
  {
   "cell_type": "code",
   "execution_count": null,
   "metadata": {},
   "outputs": [],
   "source": [
    "#Usamos o método post para fazer uma requisição de criação de usuário\n",
    "@app.post(\"/users\", response_model=User)\n",
    "async def create_user(user: User): #Nossa função assincrona\n",
    "    USERS.append(user) #Adiciona o novo usuario a lista de usuarios\n",
    "    return user #retorna o novo usuario"
   ]
  },
  {
   "cell_type": "code",
   "execution_count": null,
   "metadata": {},
   "outputs": [],
   "source": [
    "#Aqui usamos o método get para fazer a requisição para recuperar os dados de todos usuários existentes\n",
    "@app.get(\"/users\", response_model=list[User])\n",
    "async def get_users(): #Nossa função assincrona\n",
    "    return USERS #retorna a lista de usuarios"
   ]
  },
  {
   "cell_type": "code",
   "execution_count": null,
   "metadata": {},
   "outputs": [],
   "source": [
    "#Usamos o método post para fazer uma requisição de criação de tarefas\n",
    "@app.post(\"/tasks\", response_model=Task)\n",
    "async def create_task(task: Task): #Nossa função assincrona\n",
    "    TASKS.append(task) #Adiciona a nova tarefa a lista de tarefas\n",
    "    return task #"
   ]
  },
  {
   "cell_type": "code",
   "execution_count": 35,
   "metadata": {},
   "outputs": [],
   "source": [
    "@app.get(\"/tasks\", response_model=list[Task])\n",
    "async def get_tasks():\n",
    "    return TASKS"
   ]
  },
  {
   "cell_type": "code",
   "execution_count": 36,
   "metadata": {},
   "outputs": [],
   "source": [
    "@app.put(\"/tasks/{task_id}/complete\", response_model=Task)\n",
    "async def complete_task(task_id: UUID):\n",
    "    for task in TASKS:\n",
    "        if task.id == task_id:\n",
    "            task.completed = True\n",
    "            return task\n",
    "    raise HTTPException(status_code=404, detail=\"Task not found\")"
   ]
  },
  {
   "cell_type": "code",
   "execution_count": 37,
   "metadata": {},
   "outputs": [],
   "source": [
    "@app.get(\"/users/{user_id}/tasks\", response_model=list[Task])\n",
    "async def get_user_tasks(user_id: UUID):\n",
    "    user_tasks = [task for task in TASKS if task.user_id == user_id]\n",
    "    return user_tasks"
   ]
  },
  {
   "cell_type": "code",
   "execution_count": null,
   "metadata": {},
   "outputs": [],
   "source": [
    "# Testes automáticos\n",
    "def main():\n",
    "    with TestClient(app) as client:\n",
    "        # Criar usuários\n",
    "        response = client.post(\"/users\", json={\"name\": \"Alice\", \"email\": \"alice@example.com\"})\n",
    "        assert response.status_code == 200\n",
    "        user_id = response.json()[\"id\"]\n",
    "\n",
    "        # Criar uma tarefa\n",
    "        response = client.post(\"/tasks\", json={\"title\": \"Buy groceries\", \"description\": \"Milk, Eggs, Bread\", \"user_id\": user_id})\n",
    "        assert response.status_code == 200\n",
    "        task_id = response.json()[\"id\"]\n",
    "        \n",
    "        # Marcar tarefa como concluída\n",
    "        response = client.put(f\"/tasks/{task_id}/complete\")\n",
    "        assert response.status_code == 200\n",
    "        assert response.json()[\"completed\"] is True\n",
    "        \n",
    "        # Buscar tarefas do usuário\n",
    "        response = client.get(f\"/users/{user_id}/tasks\")\n",
    "        assert response.status_code == 200\n",
    "        assert len(response.json()) == 1\n",
    "        \n",
    "        print(\" Todos os testes passaram!\")"
   ]
  },
  {
   "cell_type": "code",
   "execution_count": 39,
   "metadata": {},
   "outputs": [
    {
     "name": "stdout",
     "output_type": "stream",
     "text": [
      "Todos os testes passaram!\n"
     ]
    }
   ],
   "source": [
    "if __name__ == \"__main__\":\n",
    "    main()"
   ]
  }
 ],
 "metadata": {
  "kernelspec": {
   "display_name": ".venv",
   "language": "python",
   "name": "python3"
  },
  "language_info": {
   "codemirror_mode": {
    "name": "ipython",
    "version": 3
   },
   "file_extension": ".py",
   "mimetype": "text/x-python",
   "name": "python",
   "nbconvert_exporter": "python",
   "pygments_lexer": "ipython3",
   "version": "3.12.3"
  }
 },
 "nbformat": 4,
 "nbformat_minor": 2
}
