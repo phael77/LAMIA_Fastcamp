{
 "cells": [
  {
   "cell_type": "markdown",
   "metadata": {},
   "source": [
    "**AULA 3 - VALIDAÇÃO DE DADOS COM PYDANTIC**"
   ]
  },
  {
   "cell_type": "code",
   "execution_count": 9,
   "metadata": {},
   "outputs": [],
   "source": [
    "#Importando as funções necessárias das bibliotecas\n",
    "from enum import auto, IntFlag\n",
    "from typing import Any\n",
    "from pydantic import BaseModel, EmailStr, Field, SecretStr, ValidationError"
   ]
  },
  {
   "cell_type": "code",
   "execution_count": 10,
   "metadata": {},
   "outputs": [],
   "source": [
    "\"\"\"Criamos uma classe que é do tipo enum e pode ser tanto um autor,\n",
    "quanto um editor, quanto um desenvolvedor ou um administrador\"\"\"\n",
    " \n",
    "class Role(IntFlag):\n",
    "    Author = auto()\n",
    "    Editor = auto()\n",
    "    Developer = auto()\n",
    "    Admin = Author | Editor | Developer"
   ]
  },
  {
   "cell_type": "code",
   "execution_count": null,
   "metadata": {},
   "outputs": [],
   "source": [
    "class User(BaseModel): #Criamos uma classe pro usuário do tipo BaseModel\n",
    "    name: str = Field(examples=[\"Raphael\"]) #O nome do usuário\n",
    "    #O email do usuário\n",
    "    email: EmailStr = Field(\n",
    "        examples=\"example@gmail.com\", #Exemplo de email\n",
    "        description=\"The email adress of the user\", #Descrição\n",
    "        frozen=True, #O email não pode ser alterado\n",
    "    )\n",
    "    #A senha do usuário (SecretStr é uma string que não pode ser lida diretamente)\n",
    "    password: SecretStr = Field(\n",
    "        examples=[\"Password123\"],\n",
    "        description=\"The password of the user\",\n",
    "    )\n",
    "    #O papel do usuário\n",
    "    role: Role = Field(\n",
    "        default=None,\n",
    "        description=\"The role of the user\"\n",
    "        )"
   ]
  },
  {
   "cell_type": "code",
   "execution_count": null,
   "metadata": {},
   "outputs": [],
   "source": []
  }
 ],
 "metadata": {
  "kernelspec": {
   "display_name": ".venv",
   "language": "python",
   "name": "python3"
  },
  "language_info": {
   "codemirror_mode": {
    "name": "ipython",
    "version": 3
   },
   "file_extension": ".py",
   "mimetype": "text/x-python",
   "name": "python",
   "nbconvert_exporter": "python",
   "pygments_lexer": "ipython3",
   "version": "3.12.3"
  }
 },
 "nbformat": 4,
 "nbformat_minor": 2
}
