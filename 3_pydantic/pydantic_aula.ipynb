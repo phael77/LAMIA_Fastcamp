{
 "cells": [
  {
   "cell_type": "markdown",
   "metadata": {},
   "source": [
    "**AULA 3 - VALIDAÇÃO DE DADOS COM PYDANTIC**"
   ]
  },
  {
   "cell_type": "markdown",
   "metadata": {},
   "source": [
    "**Aqui está uma introdução ao pydantic de como podemos fazer as validações de dados com ele**"
   ]
  },
  {
   "cell_type": "code",
   "execution_count": 151,
   "metadata": {},
   "outputs": [],
   "source": [
    "#Importando as funções necessárias das bibliotecas\n",
    "from enum import auto, IntFlag\n",
    "from typing import Any\n",
    "from pydantic import BaseModel, EmailStr, Field, SecretStr, ValidationError"
   ]
  },
  {
   "cell_type": "code",
   "execution_count": 152,
   "metadata": {},
   "outputs": [],
   "source": [
    "\"\"\"Criamos uma classe que é do tipo enum e pode ser tanto um autor,\n",
    "quanto um editor, quanto um desenvolvedor ou um administrador\"\"\"\n",
    " \n",
    "class Role(IntFlag):\n",
    "    Author = auto()\n",
    "    Editor = auto()\n",
    "    Developer = auto()\n",
    "    Admin = Author | Editor | Developer"
   ]
  },
  {
   "cell_type": "code",
   "execution_count": 153,
   "metadata": {},
   "outputs": [],
   "source": [
    "class User(BaseModel): #Criamos uma classe pro usuário do tipo BaseModel\n",
    "    name: str = Field(examples=[\"Raphael\"]) #O nome do usuário\n",
    "    #O email do usuário\n",
    "    email: EmailStr = Field(\n",
    "        examples=\"example@gmail.com\", #Exemplo de email\n",
    "        description=\"The email adress of the user\", #Descrição\n",
    "        frozen=True, #O email não pode ser alterado\n",
    "    )\n",
    "    #A senha do usuário (SecretStr é uma string que não pode ser lida diretamente)\n",
    "    password: SecretStr = Field(\n",
    "        examples=[\"Password123\"],\n",
    "        description=\"The password of the user\",\n",
    "    )\n",
    "    #O papel do usuário\n",
    "    role: Role = Field(\n",
    "        default=None,\n",
    "        description=\"The role of the user\"\n",
    "        )"
   ]
  },
  {
   "cell_type": "code",
   "execution_count": 154,
   "metadata": {},
   "outputs": [],
   "source": [
    "#Função para validar o usuário\n",
    "def validate(data: dict[str, Any]) -> None:\n",
    "    try: #Tentamos validar o usuário\n",
    "        user = User.model_validate(data) #Validamos o usuário\n",
    "        print(user) #Printamos o usuário\n",
    "    except ValidationError as e: #Se houver um erro de validação\n",
    "        print(\"User is invalid\") #Printamos que o usuário é inválido\n",
    "        for error in e.errors(): #Para cada erro na lista de erros\n",
    "            print(error) #Printamos o erro"
   ]
  },
  {
   "cell_type": "code",
   "execution_count": 155,
   "metadata": {},
   "outputs": [],
   "source": [
    "#Função principal\n",
    "def main() -> None:\n",
    "    #Dados bons \n",
    "    good_data = {\n",
    "        \"name\": \"Raphael\",\n",
    "        \"email\": \"example@gmail.com\",\n",
    "        \"password\": \"Password123\"\n",
    "    }\n",
    "    #Dados ruins\n",
    "    bad_data = {\n",
    "        \"email\": \"<bad_data>\",\n",
    "        \"password\": \"<bad_data>\"\n",
    "    }\n",
    "\n",
    "    validate(good_data) #Validamos os dados bons\n",
    "    validate(bad_data) #Validamos os dados ruins"
   ]
  },
  {
   "cell_type": "code",
   "execution_count": 156,
   "metadata": {},
   "outputs": [
    {
     "name": "stdout",
     "output_type": "stream",
     "text": [
      "name='Raphael' email='example@gmail.com' password=SecretStr('**********') role=None\n",
      "User is invalid\n",
      "{'type': 'missing', 'loc': ('name',), 'msg': 'Field required', 'input': {'email': '<bad_data>', 'password': '<bad_data>'}, 'url': 'https://errors.pydantic.dev/2.10/v/missing'}\n",
      "{'type': 'value_error', 'loc': ('email',), 'msg': 'value is not a valid email address: An email address must have an @-sign.', 'input': '<bad_data>', 'ctx': {'reason': 'An email address must have an @-sign.'}}\n"
     ]
    }
   ],
   "source": [
    "#Este é o bloco principal do código\n",
    "if __name__ == \"__main__\":\n",
    "    #Chamamos a função principal do código\n",
    "    # Se este script for executado diretamente (e não importado), execute a função main()\n",
    "    main()"
   ]
  },
  {
   "cell_type": "markdown",
   "metadata": {},
   "source": [
    "**Validação Personalizada**"
   ]
  },
  {
   "cell_type": "code",
   "execution_count": 157,
   "metadata": {},
   "outputs": [],
   "source": [
    "import enum\n",
    "import hashlib\n",
    "import re\n",
    "import hashlib"
   ]
  },
  {
   "cell_type": "code",
   "execution_count": 158,
   "metadata": {},
   "outputs": [],
   "source": [
    "from pydantic import (\n",
    "    BaseModel,\n",
    "    EmailStr,\n",
    "    Field,\n",
    "    field_validator,\n",
    "    model_validator,\n",
    "    SecretStr,\n",
    "    ValidationError,\n",
    ")"
   ]
  },
  {
   "cell_type": "code",
   "execution_count": 159,
   "metadata": {},
   "outputs": [],
   "source": [
    "#Usando regex para validação de senhas e nomes de usuários\n",
    "VALID_PASSWORD_REGEX = re.compile(r\"^(?=.*[a-z])(?=.*[A-Z](?=.*\\d).{8,}$)\")\n",
    "VALID_NAME_REGEX = re.compile(r\"^[a-zA-Z]{2,}$\")"
   ]
  },
  {
   "cell_type": "code",
   "execution_count": 160,
   "metadata": {},
   "outputs": [],
   "source": [
    "class Role(enum.IntFlag):\n",
    "    Author = 1\n",
    "    Editor = 2\n",
    "    Admin = 4\n",
    "    SuperAdmin = 8\n"
   ]
  },
  {
   "cell_type": "code",
   "execution_count": 161,
   "metadata": {},
   "outputs": [],
   "source": [
    "class User(BaseModel):\n",
    "    name: str = Field(examples=[\"Arjan\"])\n",
    "    email: EmailStr = Field(\n",
    "        examples=[\"user@arjancodes.com\"],\n",
    "        description=\"The email address of the user\",\n",
    "        frozen=True,\n",
    "    )\n",
    "    password: SecretStr = Field(\n",
    "        examples=[\"Password123\"], description=\"The password of the user\"\n",
    "    )\n",
    "    role: Role = Field(\n",
    "        default=None, description=\"The role of the user\", examples=[1, 2, 4, 8]\n",
    "    )\n",
    "\n",
    "    @field_validator(\"name\")\n",
    "    @classmethod\n",
    "    def validate_name(cls, v: str) -> str:\n",
    "        if not VALID_NAME_REGEX.match(v):\n",
    "            raise ValueError(\n",
    "                \"Name is invalid, must contain only letters and be at least 2 characters long\"\n",
    "            )\n",
    "        return v\n",
    "\n",
    "    @field_validator(\"role\", mode=\"before\")\n",
    "    @classmethod\n",
    "    def validate_role(cls, v: int | str | Role) -> Role:\n",
    "        op = {int: lambda x: Role(x), str: lambda x: Role[x], Role: lambda x: x}\n",
    "        try:\n",
    "            return op[type(v)](v)\n",
    "        except (KeyError, ValueError):\n",
    "            raise ValueError(\n",
    "                f\"Role is invalid, please use one of the following: {', '.join([x.name for x in Role])}\"\n",
    "            )\n",
    "\n",
    "    @model_validator(mode=\"before\")\n",
    "    @classmethod\n",
    "    def validate_user(cls, v: dict[str, Any]) -> dict[str, Any]:\n",
    "        if \"name\" not in v or \"password\" not in v:\n",
    "            raise ValueError(\"Name and password are required\")\n",
    "        if v[\"name\"].casefold() in v[\"password\"].casefold():\n",
    "            raise ValueError(\"Password cannot contain name\")\n",
    "        if not VALID_PASSWORD_REGEX.match(v[\"password\"]):\n",
    "            raise ValueError(\n",
    "                \"Password is invalid, must contain 8 characters, 1 uppercase, 1 lowercase, 1 number\"\n",
    "            )\n",
    "        v[\"password\"] = hashlib.sha256(v[\"password\"].encode()).hexdigest()\n",
    "        return v"
   ]
  },
  {
   "cell_type": "code",
   "execution_count": 162,
   "metadata": {},
   "outputs": [],
   "source": [
    "def validate(data: dict[str, Any]) -> None:\n",
    "    try:\n",
    "        user = User.model_validate(data)\n",
    "        print(user)\n",
    "    except ValidationError as e:\n",
    "        print(\"User is invalid:\")\n",
    "        print(e)"
   ]
  },
  {
   "cell_type": "code",
   "execution_count": 163,
   "metadata": {},
   "outputs": [],
   "source": [
    "def main() -> None:\n",
    "    test_data = dict(\n",
    "        good_data={\n",
    "            \"name\": \"Arjan\",\n",
    "            \"email\": \"example@arjancodes.com\",\n",
    "            \"password\": \"Password123\",\n",
    "            \"role\": \"Admin\",\n",
    "        },\n",
    "        bad_role={\n",
    "            \"name\": \"Arjan\",\n",
    "            \"email\": \"example@arjancodes.com\",\n",
    "            \"password\": \"Password123\",\n",
    "            \"role\": \"Programmer\",\n",
    "        },\n",
    "        bad_data={\n",
    "            \"name\": \"Arjan\",\n",
    "            \"email\": \"bad email\",\n",
    "            \"password\": \"bad password\",\n",
    "        },\n",
    "        bad_name={\n",
    "            \"name\": \"Arjan<-_->\",\n",
    "            \"email\": \"example@arjancodes.com\",\n",
    "            \"password\": \"Password123\",\n",
    "        },\n",
    "        duplicate={\n",
    "            \"name\": \"Arjan\",\n",
    "            \"email\": \"example@arjancodes.com\",\n",
    "            \"password\": \"Arjan123\",\n",
    "        },\n",
    "        missing_data={\n",
    "            \"email\": \"<bad data>\",\n",
    "            \"password\": \"<bad data>\",\n",
    "        },\n",
    "    )\n",
    "\n",
    "    for example_name, data in test_data.items():\n",
    "        print(example_name)\n",
    "        validate(data)\n",
    "        print()"
   ]
  },
  {
   "cell_type": "code",
   "execution_count": 164,
   "metadata": {},
   "outputs": [
    {
     "name": "stdout",
     "output_type": "stream",
     "text": [
      "good_data\n",
      "name='Arjan' email='example@arjancodes.com' password=SecretStr('**********') role=<Role.Admin: 4>\n",
      "\n",
      "bad_role\n",
      "User is invalid:\n",
      "1 validation error for User\n",
      "role\n",
      "  Value error, Role is invalid, please use one of the following: Author, Editor, Admin, SuperAdmin [type=value_error, input_value='Programmer', input_type=str]\n",
      "    For further information visit https://errors.pydantic.dev/2.10/v/value_error\n",
      "\n",
      "bad_data\n",
      "User is invalid:\n",
      "1 validation error for User\n",
      "  Value error, Password is invalid, must contain 8 characters, 1 uppercase, 1 lowercase, 1 number [type=value_error, input_value={'name': 'Arjan', 'email'...ssword': 'bad password'}, input_type=dict]\n",
      "    For further information visit https://errors.pydantic.dev/2.10/v/value_error\n",
      "\n",
      "bad_name\n",
      "User is invalid:\n",
      "1 validation error for User\n",
      "name\n",
      "  Value error, Name is invalid, must contain only letters and be at least 2 characters long [type=value_error, input_value='Arjan<-_->', input_type=str]\n",
      "    For further information visit https://errors.pydantic.dev/2.10/v/value_error\n",
      "\n",
      "duplicate\n",
      "User is invalid:\n",
      "1 validation error for User\n",
      "  Value error, Password cannot contain name [type=value_error, input_value={'name': 'Arjan', 'email'... 'password': 'Arjan123'}, input_type=dict]\n",
      "    For further information visit https://errors.pydantic.dev/2.10/v/value_error\n",
      "\n",
      "missing_data\n",
      "User is invalid:\n",
      "1 validation error for User\n",
      "  Value error, Name and password are required [type=value_error, input_value={'email': '<bad data>', 'password': '<bad data>'}, input_type=dict]\n",
      "    For further information visit https://errors.pydantic.dev/2.10/v/value_error\n",
      "\n"
     ]
    }
   ],
   "source": [
    "if __name__ == \"__main__\":\n",
    "    main()"
   ]
  },
  {
   "cell_type": "markdown",
   "metadata": {},
   "source": [
    "**Serialização de dados personalizada**"
   ]
  },
  {
   "cell_type": "code",
   "execution_count": 165,
   "metadata": {},
   "outputs": [],
   "source": [
    "import enum\n",
    "import hashlib\n",
    "import re\n",
    "from typing import Any, Self\n",
    "from pydantic import (\n",
    "    BaseModel,\n",
    "    EmailStr,\n",
    "    Field,\n",
    "    field_serializer,\n",
    "    field_validator,\n",
    "    model_serializer,\n",
    "    model_validator,\n",
    "    SecretStr,\n",
    "    )"
   ]
  },
  {
   "cell_type": "code",
   "execution_count": 166,
   "metadata": {},
   "outputs": [],
   "source": [
    "VALID_PASSWORD_REGEX = re.compile(r\"^(?=.*[a-z])(?=.*[A-Z])(?=.*\\d).{8,}$\")\n",
    "VALID_NAME_REGEX = re.compile(r\"^[a-zA-Z]{2,}$\")"
   ]
  },
  {
   "cell_type": "code",
   "execution_count": 167,
   "metadata": {},
   "outputs": [],
   "source": [
    "# Definição da enumeração de papéis de usuário\n",
    "class Role(enum.IntFlag):\n",
    "    User = 0\n",
    "    Author = 1\n",
    "    Editor = 2\n",
    "    Admin = 4\n",
    "    SuperAdmin = 8"
   ]
  },
  {
   "cell_type": "code",
   "execution_count": 168,
   "metadata": {},
   "outputs": [],
   "source": [
    "class User(BaseModel):\n",
    "    \"\"\"\n",
    "    Modelo de usuário baseado no Pydantic, usado para validação e serialização de dados.\n",
    "    \"\"\"\n",
    "\n",
    "    # Campo \"name\", que deve ser uma string com um exemplo de valor \"Example\".\n",
    "    name: str = Field(examples=[\"Example\"])\n",
    "\n",
    "    # Campo \"email\", que deve ser um email válido. \n",
    "    # Ele inclui um exemplo, uma descrição e é imutável (frozen=True).\n",
    "    email: EmailStr = Field(\n",
    "        examples=[\"user@gmail.com\"],\n",
    "        description=\"The email address of the user\",\n",
    "        frozen=True,\n",
    "    )\n",
    "\n",
    "    # Campo \"password\", que deve ser uma string secreta.\n",
    "    # Ele inclui um exemplo e uma descrição, além de ser excluído da saída por padrão.\n",
    "    password: SecretStr = Field(\n",
    "        examples=[\"Password123\"], description=\"The password of the user\", exclude=True\n",
    "    )\n",
    "\n",
    "    # Campo \"role\", que representa o papel do usuário na aplicação.\n",
    "    # O valor padrão é 0, e a validação do padrão está ativada.\n",
    "    role: Role = Field(\n",
    "        description=\"The role of the user\",\n",
    "        examples=[1, 2, 4, 8],  # Exemplos de valores possíveis\n",
    "        default=0,  # Valor padrão\n",
    "        validate_default=True,  # Ativa a validação para o valor padrão\n",
    "    )\n",
    "\n",
    "    # Validador para o campo \"name\"\n",
    "    @field_validator(\"name\")\n",
    "    def validate_name(cls, v: str) -> str:\n",
    "        \"\"\"\n",
    "        Valida se o nome contém apenas letras e tem pelo menos 2 caracteres.\n",
    "        \"\"\"\n",
    "        if not VALID_NAME_REGEX.match(v):  # Verifica se o nome segue o regex definido\n",
    "            raise ValueError(\n",
    "                \"Name is invalid, must contain only letters and be at least 2 characters long\"\n",
    "            )\n",
    "        return v\n",
    "\n",
    "    # Validador para o campo \"role\" antes da conversão do modelo\n",
    "    @field_validator(\"role\", mode=\"before\")\n",
    "    @classmethod\n",
    "    def validate_role(cls, v: int | str | Role) -> Role:\n",
    "        \"\"\"\n",
    "        Converte diferentes tipos de entrada para a enumeração Role.\n",
    "        Aceita inteiros, strings e instâncias da própria enumeração.\n",
    "        \"\"\"\n",
    "        op = {int: lambda x: Role(x), str: lambda x: Role[x], Role: lambda x: x}  # Mapeia os tipos de entrada\n",
    "        try:\n",
    "            return op[type(v)](v)  # Retorna o valor convertido para Role\n",
    "        except (KeyError, ValueError):\n",
    "            raise ValueError(\n",
    "                f\"Role is invalid, please use one of the following: {', '.join([x.name for x in Role])}\"\n",
    "            )\n",
    "\n",
    "    # Validador para o modelo antes da criação da instância\n",
    "    @model_validator(mode=\"before\")\n",
    "    @classmethod\n",
    "    def validate_user_pre(cls, v: dict[str, Any]) -> dict[str, Any]:\n",
    "        \"\"\"\n",
    "        Valida os dados do usuário antes de serem processados:\n",
    "        - Garante que 'name' e 'password' estejam presentes.\n",
    "        - Evita que a senha contenha o nome do usuário.\n",
    "        - Valida se a senha segue os requisitos de segurança.\n",
    "        - Faz o hash da senha antes de armazená-la.\n",
    "        \"\"\"\n",
    "        if \"name\" not in v or \"password\" not in v:\n",
    "            raise ValueError(\"Name and password are required\")\n",
    "\n",
    "        if v[\"name\"].casefold() in v[\"password\"].casefold():\n",
    "            raise ValueError(\"Password cannot contain name\")\n",
    "\n",
    "        if not VALID_PASSWORD_REGEX.match(v[\"password\"]):\n",
    "            raise ValueError(\n",
    "                \"Password is invalid, must contain 8 characters, 1 uppercase, 1 lowercase, 1 number\"\n",
    "            )\n",
    "\n",
    "        # Faz o hash da senha usando SHA-256 antes de armazená-la\n",
    "        v[\"password\"] = hashlib.sha256(v[\"password\"].encode()).hexdigest()\n",
    "        return v\n",
    "\n",
    "    # Validador para o modelo depois da criação da instância\n",
    "    @model_validator(mode=\"after\")\n",
    "    def validate_user_post(self, v: Any) -> Self:\n",
    "        \"\"\"\n",
    "        Valida regras após a criação do usuário:\n",
    "        - Somente o usuário chamado \"Raphael\" pode ser um administrador.\n",
    "        \"\"\"\n",
    "        if self.role == Role.Admin and self.name != \"Raphael\":\n",
    "            raise ValueError(\"Only Raphael can be an admin\")\n",
    "        return self\n",
    "\n",
    "    # Serializador para o campo \"role\", garantindo que ele seja representado como string no JSON\n",
    "    @field_serializer(\"role\", when_used=\"json\")\n",
    "    @classmethod\n",
    "    def serialize_role(cls, v) -> str:\n",
    "        \"\"\"\n",
    "        Serializa o papel do usuário como uma string em vez de um número.\n",
    "        \"\"\"\n",
    "        return v.name\n",
    "\n",
    "    # Serializador personalizado para a classe User\n",
    "    @model_serializer(mode=\"wrap\", when_used=\"json\")\n",
    "    def serialize_user(self, serializer, info) -> dict[str, Any]:\n",
    "        \"\"\"\n",
    "        Define a forma como o modelo User será serializado:\n",
    "        - Se nenhum campo for explicitamente incluído/excluído, retorna apenas 'name' e 'role'.\n",
    "        - Caso contrário, usa a serialização padrão.\n",
    "        \"\"\"\n",
    "        if not info.include and not info.exclude:\n",
    "            return {\"name\": self.name, \"role\": self.role.name}\n",
    "        return serializer(self)"
   ]
  },
  {
   "cell_type": "code",
   "execution_count": 169,
   "metadata": {},
   "outputs": [],
   "source": [
    "def main() -> None:\n",
    "    \"\"\"\n",
    "    Função principal que cria um dicionário de dados do usuário, \n",
    "    valida-o com o modelo `User` e exibe diferentes formatos de serialização.\n",
    "    \"\"\"\n",
    "\n",
    "    # Dicionário contendo os dados do usuário\n",
    "    data = {\n",
    "        \"name\": \"Raphael\",\n",
    "        \"email\": \"example@gmail.com\",\n",
    "        \"password\": \"Password123\",\n",
    "        \"role\": \"Admin\",\n",
    "    }\n",
    "\n",
    "    # Valida e cria uma instância do modelo User a partir do dicionário `data`\n",
    "    user = User.model_validate(data)\n",
    "\n",
    "    # Se a validação for bem-sucedida e a instância `user` for criada\n",
    "    if user:\n",
    "        # Serializa o objeto `user` para um dicionário Python\n",
    "        print(\n",
    "            \"The serializer that returns a dict:\",  # Mensagem de saída\n",
    "            user.model_dump(),  # Converte o modelo `User` para um dicionário\n",
    "            sep=\"\\n\",  # Define o separador como uma nova linha\n",
    "            end=\"\\n\\n\",  # Adiciona duas quebras de linha ao final\n",
    "        )\n",
    "\n",
    "        # Serializa o objeto `user` para um JSON string\n",
    "        print(\n",
    "            \"The serializer that returns a JSON string:\",\n",
    "            user.model_dump(mode=\"json\"),  # Converte o modelo `User` para um JSON string\n",
    "            sep=\"\\n\",\n",
    "            end=\"\\n\\n\",\n",
    "        )\n",
    "\n",
    "        # Serializa para JSON, mas exclui o campo \"role\"\n",
    "        print(\n",
    "            \"The serializer that returns a json string, excluding the role:\",\n",
    "            user.model_dump(exclude=[\"role\"], mode=\"json\"),  # Exclui \"role\" da saída JSON\n",
    "            sep=\"\\n\",\n",
    "            end=\"\\n\\n\",\n",
    "        )\n",
    "\n",
    "        # Converte o objeto `user` diretamente para um dicionário\n",
    "        print(\n",
    "            \"The serializer that encodes all values to a dict:\",\n",
    "            dict(user),  # Converte `user` para um dicionário Python\n",
    "            sep=\"\\n\",\n",
    "        )\n"
   ]
  },
  {
   "cell_type": "code",
   "execution_count": null,
   "metadata": {},
   "outputs": [
    {
     "name": "stdout",
     "output_type": "stream",
     "text": [
      "The serializer that returns a dict:\n",
      "{'name': 'Raphael', 'email': 'example@gmail.com', 'role': <Role.Admin: 4>}\n",
      "\n",
      "The serializer that returns a JSON string:\n",
      "{'name': 'Raphael', 'role': 'Admin'}\n",
      "\n",
      "The serializer that returns a json string, excluding the role:\n",
      "{'name': 'Raphael', 'email': 'example@gmail.com'}\n",
      "\n",
      "The serializer that encodes all values to a dict:\n",
      "{'name': 'Raphael', 'email': 'example@gmail.com', 'password': SecretStr('**********'), 'role': <Role.Admin: 4>}\n"
     ]
    }
   ],
   "source": [
    "#Execução do código\n",
    "if __name__ == \"__main__\":\n",
    "    main()"
   ]
  },
  {
   "cell_type": "markdown",
   "metadata": {},
   "source": [
    "**Integração com FastAPI**"
   ]
  },
  {
   "cell_type": "code",
   "execution_count": null,
   "metadata": {},
   "outputs": [],
   "source": []
  }
 ],
 "metadata": {
  "kernelspec": {
   "display_name": ".venv",
   "language": "python",
   "name": "python3"
  },
  "language_info": {
   "codemirror_mode": {
    "name": "ipython",
    "version": 3
   },
   "file_extension": ".py",
   "mimetype": "text/x-python",
   "name": "python",
   "nbconvert_exporter": "python",
   "pygments_lexer": "ipython3",
   "version": "3.12.3"
  }
 },
 "nbformat": 4,
 "nbformat_minor": 2
}
