{
 "cells": [
  {
   "cell_type": "markdown",
   "metadata": {},
   "source": [
    "**AULA 3 - VALIDAÇÃO DE DADOS COM PYDANTIC**"
   ]
  },
  {
   "cell_type": "markdown",
   "metadata": {},
   "source": [
    "**Aqui está uma introdução ao pydantic de como podemos fazer as validações de dados com ele**"
   ]
  },
  {
   "cell_type": "code",
   "execution_count": 20,
   "metadata": {},
   "outputs": [],
   "source": [
    "#Importando as funções necessárias das bibliotecas\n",
    "from enum import auto, IntFlag\n",
    "from typing import Any\n",
    "from pydantic import BaseModel, EmailStr, Field, SecretStr, ValidationError"
   ]
  },
  {
   "cell_type": "code",
   "execution_count": 21,
   "metadata": {},
   "outputs": [],
   "source": [
    "\"\"\"Criamos uma classe que é do tipo enum e pode ser tanto um autor,\n",
    "quanto um editor, quanto um desenvolvedor ou um administrador\"\"\"\n",
    " \n",
    "class Role(IntFlag):\n",
    "    Author = auto()\n",
    "    Editor = auto()\n",
    "    Developer = auto()\n",
    "    Admin = Author | Editor | Developer"
   ]
  },
  {
   "cell_type": "code",
   "execution_count": 22,
   "metadata": {},
   "outputs": [],
   "source": [
    "class User(BaseModel): #Criamos uma classe pro usuário do tipo BaseModel\n",
    "    name: str = Field(examples=[\"Raphael\"]) #O nome do usuário\n",
    "    #O email do usuário\n",
    "    email: EmailStr = Field(\n",
    "        examples=\"example@gmail.com\", #Exemplo de email\n",
    "        description=\"The email adress of the user\", #Descrição\n",
    "        frozen=True, #O email não pode ser alterado\n",
    "    )\n",
    "    #A senha do usuário (SecretStr é uma string que não pode ser lida diretamente)\n",
    "    password: SecretStr = Field(\n",
    "        examples=[\"Password123\"],\n",
    "        description=\"The password of the user\",\n",
    "    )\n",
    "    #O papel do usuário\n",
    "    role: Role = Field(\n",
    "        default=None,\n",
    "        description=\"The role of the user\"\n",
    "        )"
   ]
  },
  {
   "cell_type": "code",
   "execution_count": 23,
   "metadata": {},
   "outputs": [],
   "source": [
    "#Função para validar o usuário\n",
    "def validate(data: dict[str, Any]) -> None:\n",
    "    try: #Tentamos validar o usuário\n",
    "        user = User.model_validate(data) #Validamos o usuário\n",
    "        print(user) #Printamos o usuário\n",
    "    except ValidationError as e: #Se houver um erro de validação\n",
    "        print(\"User is invalid\") #Printamos que o usuário é inválido\n",
    "        for error in e.errors(): #Para cada erro na lista de erros\n",
    "            print(error) #Printamos o erro"
   ]
  },
  {
   "cell_type": "code",
   "execution_count": 24,
   "metadata": {},
   "outputs": [],
   "source": [
    "#Função principal\n",
    "def main() -> None:\n",
    "    #Dados bons \n",
    "    good_data = {\n",
    "        \"name\": \"Raphael\",\n",
    "        \"email\": \"example@gmail.com\",\n",
    "        \"password\": \"Password123\"\n",
    "    }\n",
    "    #Dados ruins\n",
    "    bad_data = {\n",
    "        \"email\": \"<bad_data>\",\n",
    "        \"password\": \"<bad_data>\"\n",
    "    }\n",
    "\n",
    "    validate(good_data) #Validamos os dados bons\n",
    "    validate(bad_data) #Validamos os dados ruins"
   ]
  },
  {
   "cell_type": "code",
   "execution_count": 25,
   "metadata": {},
   "outputs": [
    {
     "name": "stdout",
     "output_type": "stream",
     "text": [
      "name='Raphael' email='example@gmail.com' password=SecretStr('**********') role=None\n",
      "User is invalid\n",
      "{'type': 'missing', 'loc': ('name',), 'msg': 'Field required', 'input': {'email': '<bad_data>', 'password': '<bad_data>'}, 'url': 'https://errors.pydantic.dev/2.10/v/missing'}\n",
      "{'type': 'value_error', 'loc': ('email',), 'msg': 'value is not a valid email address: An email address must have an @-sign.', 'input': '<bad_data>', 'ctx': {'reason': 'An email address must have an @-sign.'}}\n"
     ]
    }
   ],
   "source": [
    "#Este é o bloco principal do código\n",
    "if __name__ == \"__main__\":\n",
    "    #Chamamos a função principal do código\n",
    "    # Se este script for executado diretamente (e não importado), execute a função main()\n",
    "    main()"
   ]
  },
  {
   "cell_type": "markdown",
   "metadata": {},
   "source": []
  }
 ],
 "metadata": {
  "kernelspec": {
   "display_name": ".venv",
   "language": "python",
   "name": "python3"
  },
  "language_info": {
   "codemirror_mode": {
    "name": "ipython",
    "version": 3
   },
   "file_extension": ".py",
   "mimetype": "text/x-python",
   "name": "python",
   "nbconvert_exporter": "python",
   "pygments_lexer": "ipython3",
   "version": "3.12.3"
  }
 },
 "nbformat": 4,
 "nbformat_minor": 2
}
